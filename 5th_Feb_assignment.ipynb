{
 "cells": [
  {
   "cell_type": "code",
   "execution_count": 8,
   "id": "f01bbb96-290e-49ed-a0fa-54ba6c23e3dd",
   "metadata": {},
   "outputs": [],
   "source": [
    "# Question number 1\n",
    "# In this example adnan is a object and pwskills is a class\n",
    "class pwskills:\n",
    "    def gretings(self):\n",
    "        print(\"Welcome to pwskills\")"
   ]
  },
  {
   "cell_type": "code",
   "execution_count": 9,
   "id": "88d796dc-f884-4993-a412-92389c2fb1a5",
   "metadata": {},
   "outputs": [],
   "source": [
    "adnan = pwskills()"
   ]
  },
  {
   "cell_type": "code",
   "execution_count": 10,
   "id": "0836c374-6d31-4d15-bf59-2d789179f3fa",
   "metadata": {},
   "outputs": [
    {
     "name": "stdout",
     "output_type": "stream",
     "text": [
      "Welcome to pwskills\n"
     ]
    }
   ],
   "source": [
    "adnan.gretings()"
   ]
  },
  {
   "cell_type": "code",
   "execution_count": 11,
   "id": "5b7c810d-92fe-4619-af11-a53a3bcbb545",
   "metadata": {},
   "outputs": [],
   "source": [
    "# Question number 2\n",
    "# 1 polymorphism, 2 inheritance , 3 encapsulation, 4 abstraction\n"
   ]
  },
  {
   "cell_type": "code",
   "execution_count": 12,
   "id": "cc4adc5a-0340-4209-b026-8fe579b35233",
   "metadata": {},
   "outputs": [],
   "source": [
    "# Question number 3\n",
    "# init fxn is used to initialise a of a multiple variable \n",
    "class car :\n",
    "    def __init__(self, price, year,model):\n",
    "        self.price = price\n",
    "        self.year = year\n",
    "        self.model = model"
   ]
  },
  {
   "cell_type": "code",
   "execution_count": 13,
   "id": "49320793-5071-4cd4-bfa9-24adc500d051",
   "metadata": {},
   "outputs": [],
   "source": [
    "adnan = car(45000, 2023, \"Toyota\")"
   ]
  },
  {
   "cell_type": "code",
   "execution_count": 15,
   "id": "8d2b7e7f-14b9-4e4c-800b-6b456f136a11",
   "metadata": {},
   "outputs": [
    {
     "data": {
      "text/plain": [
       "'Toyota'"
      ]
     },
     "execution_count": 15,
     "metadata": {},
     "output_type": "execute_result"
    }
   ],
   "source": [
    "adnan.model"
   ]
  },
  {
   "cell_type": "code",
   "execution_count": 16,
   "id": "fb363da9-a9cc-481c-bc3c-3188935ebfef",
   "metadata": {},
   "outputs": [],
   "source": [
    "# Question number 4\n",
    "# self is not a reserved keyword it is just used to point out towards the variable"
   ]
  },
  {
   "cell_type": "code",
   "execution_count": 17,
   "id": "07357059-407a-492a-8553-d1c59849ae81",
   "metadata": {},
   "outputs": [],
   "source": [
    "# Question number 5\n",
    "# Inheritance is a object which changes their behavior on changing of enviornment"
   ]
  },
  {
   "cell_type": "code",
   "execution_count": 18,
   "id": "0fe3ee54-80d0-4b3b-a212-cceca71a60c4",
   "metadata": {},
   "outputs": [],
   "source": [
    "class class1:\n",
    "    def class1(self):\n",
    "        print(\"This is my first class\")"
   ]
  },
  {
   "cell_type": "code",
   "execution_count": 20,
   "id": "5680fd3b-6afd-40e0-8cdc-62cdb81406c7",
   "metadata": {},
   "outputs": [],
   "source": [
    "class class2:\n",
    "    def class2(class1):\n",
    "        print(\"This is my second class\")"
   ]
  },
  {
   "cell_type": "code",
   "execution_count": 25,
   "id": "974b5fa3-21f4-4d63-986a-511a51356e32",
   "metadata": {},
   "outputs": [],
   "source": [
    "class class3:\n",
    "    def class3(class2):\n",
    "        print(\"This is my third class\")"
   ]
  },
  {
   "cell_type": "code",
   "execution_count": 28,
   "id": "3795b87d-82a2-4318-9a66-508b2de85d22",
   "metadata": {},
   "outputs": [
    {
     "ename": "SyntaxError",
     "evalue": "cannot assign to function call here. Maybe you meant '==' instead of '='? (285478439.py, line 1)",
     "output_type": "error",
     "traceback": [
      "\u001b[0;36m  Cell \u001b[0;32mIn[28], line 1\u001b[0;36m\u001b[0m\n\u001b[0;31m    obj_class3() = class3\u001b[0m\n\u001b[0m    ^\u001b[0m\n\u001b[0;31mSyntaxError\u001b[0m\u001b[0;31m:\u001b[0m cannot assign to function call here. Maybe you meant '==' instead of '='?\n"
     ]
    }
   ],
   "source": [
    "obj_class3 = class3"
   ]
  },
  {
   "cell_type": "code",
   "execution_count": 29,
   "id": "0ad334c8-fb61-4a00-8438-45b1395dd6fc",
   "metadata": {},
   "outputs": [
    {
     "ename": "TypeError",
     "evalue": "class3.class3() missing 1 required positional argument: 'class2'",
     "output_type": "error",
     "traceback": [
      "\u001b[0;31m---------------------------------------------------------------------------\u001b[0m",
      "\u001b[0;31mTypeError\u001b[0m                                 Traceback (most recent call last)",
      "Cell \u001b[0;32mIn[29], line 1\u001b[0m\n\u001b[0;32m----> 1\u001b[0m \u001b[43mobj_class3\u001b[49m\u001b[38;5;241;43m.\u001b[39;49m\u001b[43mclass3\u001b[49m\u001b[43m(\u001b[49m\u001b[43m)\u001b[49m\n",
      "\u001b[0;31mTypeError\u001b[0m: class3.class3() missing 1 required positional argument: 'class2'"
     ]
    }
   ],
   "source": [
    "obj_class3.class3()"
   ]
  },
  {
   "cell_type": "code",
   "execution_count": null,
   "id": "fddf6b27-00d8-489d-b876-fb912a574f1d",
   "metadata": {},
   "outputs": [],
   "source": []
  }
 ],
 "metadata": {
  "kernelspec": {
   "display_name": "Python 3 (ipykernel)",
   "language": "python",
   "name": "python3"
  },
  "language_info": {
   "codemirror_mode": {
    "name": "ipython",
    "version": 3
   },
   "file_extension": ".py",
   "mimetype": "text/x-python",
   "name": "python",
   "nbconvert_exporter": "python",
   "pygments_lexer": "ipython3",
   "version": "3.10.8"
  }
 },
 "nbformat": 4,
 "nbformat_minor": 5
}
